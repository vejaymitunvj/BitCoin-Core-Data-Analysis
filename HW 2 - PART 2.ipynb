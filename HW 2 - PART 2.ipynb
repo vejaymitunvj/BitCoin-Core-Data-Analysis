{
 "cells": [
  {
   "cell_type": "code",
   "execution_count": 1,
   "metadata": {},
   "outputs": [],
   "source": [
    "import pandas as pd\n",
    "import numpy as np"
   ]
  },
  {
   "cell_type": "code",
   "execution_count": null,
   "metadata": {},
   "outputs": [],
   "source": []
  },
  {
   "cell_type": "code",
   "execution_count": null,
   "metadata": {},
   "outputs": [],
   "source": [
    "################################## Part 2: Address de-anonymization ######################################################"
   ]
  },
  {
   "cell_type": "code",
   "execution_count": 2,
   "metadata": {},
   "outputs": [],
   "source": [
    "file_path_in = 'C:/Users/prasi/OneDrive/Desktop/Vejay/Spring 2020/BlockChain/hw/HW2/DATA/compressed/data/txin.csv'"
   ]
  },
  {
   "cell_type": "code",
   "execution_count": 3,
   "metadata": {},
   "outputs": [],
   "source": [
    "data_in = pd.read_csv(file_path_in, sep='\\t', header=None)"
   ]
  },
  {
   "cell_type": "code",
   "execution_count": 4,
   "metadata": {},
   "outputs": [],
   "source": [
    "data_in.columns = ['txID','input_seq','prev_txID','prev_output_seq','addrID', 'sum']"
   ]
  },
  {
   "cell_type": "code",
   "execution_count": 5,
   "metadata": {},
   "outputs": [],
   "source": [
    "file_path_out = 'C:/Users/prasi/OneDrive/Desktop/Vejay/Spring 2020/BlockChain/hw/HW2/DATA/compressed/data/txout.csv'"
   ]
  },
  {
   "cell_type": "code",
   "execution_count": 6,
   "metadata": {},
   "outputs": [],
   "source": [
    "data_out = pd.read_csv(file_path_out, sep='\\t', header=None)"
   ]
  },
  {
   "cell_type": "code",
   "execution_count": 8,
   "metadata": {},
   "outputs": [],
   "source": [
    "data_out.columns=['txID','output_seq','addrID','sum']"
   ]
  },
  {
   "cell_type": "code",
   "execution_count": 9,
   "metadata": {},
   "outputs": [],
   "source": [
    "sum_in = pd.DataFrame(data_in.groupby(['addrID'])['sum'].sum())\n",
    "\n",
    "sum_out = pd.DataFrame(data_out.groupby(['addrID'])['sum'].sum())\n",
    "\n",
    "result = pd.merge(sum_in, sum_out,how='right',on = 'addrID')\n",
    "\n",
    "result=result.fillna(0)\n",
    "\n",
    "result['balance'] = result['sum_y'] - result['sum_x']"
   ]
  },
  {
   "cell_type": "code",
   "execution_count": null,
   "metadata": {},
   "outputs": [],
   "source": []
  },
  {
   "cell_type": "code",
   "execution_count": 11,
   "metadata": {},
   "outputs": [],
   "source": [
    "create_frozen_inDataSet = data_in.groupby('txID')['addrID'].apply(frozenset)"
   ]
  },
  {
   "cell_type": "code",
   "execution_count": null,
   "metadata": {},
   "outputs": [],
   "source": [
    "dataframe_in= pd.DataFrame(create_frozen_inDataSet)"
   ]
  },
  {
   "cell_type": "code",
   "execution_count": null,
   "metadata": {},
   "outputs": [],
   "source": [
    "universal_users = set()"
   ]
  },
  {
   "cell_type": "code",
   "execution_count": null,
   "metadata": {},
   "outputs": [],
   "source": [
    "addrID = dataframe_in['addrID'].iloc[0]\n",
    "addrIDFS = frozenset(addrID)\n",
    "users.add(addrIDFS)"
   ]
  },
  {
   "cell_type": "code",
   "execution_count": null,
   "metadata": {},
   "outputs": [],
   "source": [
    "for i in range(len(dataframe_in)): \n",
    "    if i > 0:\n",
    "        addrID = set(tmpdf['addrID'].iloc[i])\n",
    "        newuserFS = frozenset(addrID)\n",
    "        for user in users:\n",
    "            userSet = set(user)\n",
    "        \n",
    "            if len(userSet.intersection(addrID)) > 0:\n",
    "                users.remove(user)\n",
    "                n_user = userSet.union(addrID)\n",
    "                n_userFS = frozenset(n_user)\n",
    "                break\n",
    "        users.add(n_userFS)"
   ]
  },
  {
   "cell_type": "code",
   "execution_count": null,
   "metadata": {},
   "outputs": [],
   "source": [
    "file_path_addr = 'C:/Users/prasi/OneDrive/Desktop/Vejay/Spring 2020/BlockChain/hw/HW2/DATA/compressed/data/addr_sccs.dat'"
   ]
  },
  {
   "cell_type": "code",
   "execution_count": null,
   "metadata": {},
   "outputs": [],
   "source": [
    "data_add = pd.read_csv(file_path_addr, sep='\\t', header=None)"
   ]
  },
  {
   "cell_type": "code",
   "execution_count": null,
   "metadata": {},
   "outputs": [],
   "source": [
    "data_add.columns = ['addrID','userID']"
   ]
  },
  {
   "cell_type": "code",
   "execution_count": null,
   "metadata": {},
   "outputs": [],
   "source": [
    "uniq_users = pd.DataFrame(data_add.drop_duplicates('userID'))"
   ]
  },
  {
   "cell_type": "code",
   "execution_count": null,
   "metadata": {},
   "outputs": [],
   "source": [
    "total_users = data_add['userID'].count()"
   ]
  },
  {
   "cell_type": "code",
   "execution_count": null,
   "metadata": {},
   "outputs": [],
   "source": [
    "total_users"
   ]
  },
  {
   "cell_type": "code",
   "execution_count": null,
   "metadata": {},
   "outputs": [],
   "source": []
  },
  {
   "cell_type": "code",
   "execution_count": null,
   "metadata": {},
   "outputs": [],
   "source": [
    "#2 b. Average balance per user "
   ]
  },
  {
   "cell_type": "code",
   "execution_count": null,
   "metadata": {},
   "outputs": [],
   "source": [
    "balance = result['balance'].sum()"
   ]
  },
  {
   "cell_type": "code",
   "execution_count": null,
   "metadata": {},
   "outputs": [],
   "source": [
    "average_bal_pu= balance / total_users\n",
    "print(average_bal_pu)"
   ]
  },
  {
   "cell_type": "code",
   "execution_count": null,
   "metadata": {},
   "outputs": [],
   "source": []
  },
  {
   "cell_type": "code",
   "execution_count": null,
   "metadata": {},
   "outputs": [],
   "source": [
    "# 2 c. Average number of input and output transaction per user and average transaction per user. "
   ]
  },
  {
   "cell_type": "code",
   "execution_count": null,
   "metadata": {},
   "outputs": [],
   "source": [
    "aver_input_per_user = df_transactions_count / total_users\n",
    "print(aver_input_per_user)"
   ]
  },
  {
   "cell_type": "code",
   "execution_count": null,
   "metadata": {},
   "outputs": [],
   "source": []
  },
  {
   "cell_type": "code",
   "execution_count": null,
   "metadata": {},
   "outputs": [],
   "source": [
    "average_output_per_user = no_trans_out / total_users\n",
    "print(average_output_per_user)"
   ]
  },
  {
   "cell_type": "code",
   "execution_count": null,
   "metadata": {},
   "outputs": [],
   "source": []
  },
  {
   "cell_type": "code",
   "execution_count": null,
   "metadata": {},
   "outputs": [],
   "source": [
    "total_Transaction_avg = (df_transactions_count + no_trans_out) / total_users\n",
    "print(total_Transaction_avg)"
   ]
  },
  {
   "cell_type": "code",
   "execution_count": null,
   "metadata": {},
   "outputs": [],
   "source": []
  },
  {
   "cell_type": "code",
   "execution_count": null,
   "metadata": {},
   "outputs": [],
   "source": [
    "# 1 for finding serial control"
   ]
  },
  {
   "cell_type": "code",
   "execution_count": null,
   "metadata": {},
   "outputs": [],
   "source": [
    "file_path_tx = 'C:/Users/prasi/OneDrive/Desktop/Vejay/Spring 2020/BlockChain/hw/HW2/DATA/compressed/data/tx.csv'"
   ]
  },
  {
   "cell_type": "code",
   "execution_count": null,
   "metadata": {},
   "outputs": [],
   "source": [
    "data_tx = pd.read_csv(file_path_tx, sep='\\t', header=None)\n",
    "\n",
    "data_tx.columns = ['txID', 'blockID', 'n_inputs', 'n_outputs']\n",
    "\n",
    "commonTrans = pd.DataFrame(data_tx.loc[data_tx['n_outputs'] == 1])\n",
    "\n",
    "c1 = commonTrans.reset_index()\n",
    "\n",
    "c2 = pd.DataFrame(c1['txID'])\n",
    "c2['txID']"
   ]
  },
  {
   "cell_type": "code",
   "execution_count": null,
   "metadata": {},
   "outputs": [],
   "source": []
  },
  {
   "cell_type": "code",
   "execution_count": null,
   "metadata": {},
   "outputs": [],
   "source": [
    "newtableaddress = pd.DataFrame(data_out.loc[data_out['txID'].isin(c2['txID'])])\n",
    "\n",
    "addrTable = pd.DataFrame(newtableaddress['addrID'])\n",
    "\n",
    "addrTable"
   ]
  },
  {
   "cell_type": "code",
   "execution_count": null,
   "metadata": {},
   "outputs": [],
   "source": []
  },
  {
   "cell_type": "code",
   "execution_count": null,
   "metadata": {},
   "outputs": [],
   "source": []
  }
 ],
 "metadata": {
  "kernelspec": {
   "display_name": "Python 3",
   "language": "python",
   "name": "python3"
  },
  "language_info": {
   "codemirror_mode": {
    "name": "ipython",
    "version": 3
   },
   "file_extension": ".py",
   "mimetype": "text/x-python",
   "name": "python",
   "nbconvert_exporter": "python",
   "pygments_lexer": "ipython3",
   "version": "3.8.2"
  }
 },
 "nbformat": 4,
 "nbformat_minor": 4
}
